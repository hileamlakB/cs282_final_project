{
 "cells": [
  {
   "cell_type": "code",
   "execution_count": null,
   "metadata": {},
   "outputs": [],
   "source": [
    "import pandas as pd\n",
    "import numpy as np\n",
    "import matplotlib.pyplot as plt"
   ]
  },
  {
   "cell_type": "code",
   "execution_count": null,
   "metadata": {},
   "outputs": [],
   "source": [
    "DF_FILEPATH = 'fp.csv'\n",
    "df_ards = pd.read_csv(DF_FILEPATH)\n",
    "\n",
    "df_ards.head()"
   ]
  },
  {
   "cell_type": "code",
   "execution_count": null,
   "metadata": {},
   "outputs": [],
   "source": [
    "for item in df_ards.head()['drug']:\n",
    "    print(item)"
   ]
  },
  {
   "cell_type": "code",
   "execution_count": null,
   "metadata": {},
   "outputs": [],
   "source": [
    "df_prices = pd.read_excel('./vaFssPharmPrices.xlsx')\n",
    "df_prices.columns"
   ]
  },
  {
   "cell_type": "code",
   "execution_count": null,
   "metadata": {},
   "outputs": [],
   "source": [
    "# Function to search 'trade name' for a specific drug and extract 'price'\n",
    "collected_costs = {}\n",
    "unique_units = set()\n",
    "\n",
    "conversions = {\n",
    "    \"mg\": (0.001, \"g\"),    # 1 milligram is 0.001 grams\n",
    "    \"mcg\": (0.000001, \"g\"),  # 1 microgram is 0.000001 grams\n",
    "    \"ng\": (0.000000001, \"g\"),\n",
    "    \"ml\": (0.001, \"l\"),    # 1 milliliter is 0.001 liters\n",
    "    \"g\": (1, \"g\"),         # 1 gram is 1 gram (no conversion needed)\n",
    "    \"kg\": (1000, \"g\"),     # 1 kilogram is 1000 grams\n",
    "    \"ml\": (0.001, \"l\"),\n",
    "    \"l\": (1, \"l\"),         # 1 liter is 1 liter (no conversion needed)\n",
    "    \"mg/ml\" : (1, \"g/l\"),\n",
    "    \"ng/ml\": (0.000001, \"g/l\"),  # Add conversions for ng/ml\n",
    "    \"mcg/ml\": (0.001, \"g/l\"),\n",
    "    \"ug\": (0.000001, \"g\"),  # Add conversions for ug\n",
    "    \"iu\": (1, \"iu\"),       # Add conversions for IU\n",
    "    \"units\": (1, \"units\"),  # Add conversions for units\n",
    "    \"unt\": (1, \"unt\"),\n",
    "    \"unt/ml\": (1, \"unt/ml\"),\n",
    "    # Add more conversions for other units as needed\n",
    "}\n",
    "\n",
    "\n",
    "def convert(cost, amount, unit):\n",
    "    split = unit.split('/')\n",
    "    unit_1 = split[0]\n",
    "    unit_2 = split[1] if len(split) > 1 else ''\n",
    "    conversion_factor = conversions[unit_1.lower()][0] / conversions[unit_2.lower()][0] if unit_2 else conversions[unit_1.lower()][0]\n",
    "    conversion_unit = conversions[unit_1.lower()][1] + '/' + conversions[unit_2.lower()][1] if unit_2 else conversions[unit_1.lower()][1]\n",
    "    return (cost / (conversion_factor * amount), conversion_unit) \n",
    "\n",
    "def search_and_extract_cost(drug, tradeName_column, price_column, size_column):\n",
    "    escaped_drug = re.escape(drug)\n",
    "    mask = df_prices[tradeName_column].str.contains(escaped_drug, case=False)\n",
    "    if mask.any():\n",
    "        fss_price = df_prices.loc[mask, price_column].iloc[0]\n",
    "        package_size = re.search(r'\\d+', df_prices.loc[mask, size_column].iloc[0])\n",
    "        if not fss_price or not package_size: \n",
    "            print(escaped_drug)\n",
    "            return None\n",
    "        return fss_price / float(package_size.group())\n",
    "    else:\n",
    "        return None  # Return None if drug not found\n",
    "\n",
    "def extract_unit(drug, tradeName_column):\n",
    "\n",
    "    escaped_drug = re.escape(drug)\n",
    "    mask = df_prices[tradeName_column].str.contains(escaped_drug, case=False)\n",
    "    if mask.any():\n",
    "        text = df_prices.loc[mask, tradeName_column].iloc[0]\n",
    "         # Define a regular expression pattern to find numbers followed by various units\n",
    "        # pattern = r'(\\d+(\\.\\d+)?)(\\s*)(mg|g|ml|l|mcg|µg|kg|kg|mg/ml|ng/ml|g/ml|ug|IU|iu|units|unt|unt/ml|unt/g|unt/mg)(\\b)'\n",
    "        pattern = r'(\\d+(\\.\\d+)?)(\\s*)(mg|g|ml|l|mcg|µg|kg|kg|mg/ml|ng/ml|g/ml|ug|IU|units|unt|unts)(/\\s*)?(mg|g|ml|l|mcg|µg|kg|kg|mg/ml|ng/ml|g/ml|ug|IU|units|unt|unts)?(\\b)?'\n",
    "\n",
    "        matches = re.findall(pattern, text, re.IGNORECASE)\n",
    "\n",
    "        # Extracting information from matches\n",
    "        if matches:\n",
    "            for match in matches:\n",
    "                amount = float(match[0])  # Extract the number\n",
    "                unit_1 = match[3]  # Extract the unit\n",
    "                unit_2 = match[5] if match[5] else ''\n",
    "                full_unit = unit_1 + '/' + unit_2 if unit_2 else unit_1\n",
    "                unique_units.add(full_unit.lower())\n",
    "                return (amount, full_unit.lower())\n",
    "        \n",
    "        return (None, None)\n",
    "    else:\n",
    "        return (None, None)  # Return None if drug not found\n",
    "    \n",
    "   \n",
    "\n",
    "def search_unit(drug):\n",
    "    escaped_drug = re.escape(drug)\n",
    "    mask = df_prices['TradeName'].str.contains(escaped_drug, case=False)\n",
    "    if mask.any():\n",
    "        trade_name = df_prices.loc[mask, 'TradeName'].iloc[0]\n",
    "        \n",
    "\n",
    "def standardize_cost(cost, amount, unit):\n",
    "    if not cost or not amount or not unit: return (None, None)\n",
    "    conv_cost, conv_unit = convert(cost, amount, unit)\n",
    "    return (conv_cost, conv_unit)\n"
   ]
  },
  {
   "cell_type": "code",
   "execution_count": null,
   "metadata": {},
   "outputs": [],
   "source": [
    "# ARDS Disease\n",
    "df_ards['OPAL Price'] = df_ards['drug'].apply(lambda x: search_and_extract_cost(x, 'TradeName', 'Price', 'PackageDescription'))\n",
    "df_ards['OPAL Amount'], df_ards['OPAL Unit'] = zip(*df_ards['drug'].apply(lambda x: extract_unit(x, 'TradeName')))\n",
    "df_ards['OPAL Standardized Cost'], df_ards['OPAL Standardized Unit'] = zip(*df_ards.apply(lambda row: standardize_cost(row['OPAL Price'], row['OPAL Amount'], row['OPAL Unit']), axis=1))"
   ]
  },
  {
   "cell_type": "code",
   "execution_count": null,
   "metadata": {},
   "outputs": [],
   "source": [
    "print(df_ards['OPAL Standardized Unit'].unique())\n",
    "print(df_ards['OPAL Unit'].unique())\n",
    "len(df_ards) - df_ards['OPAL Standardized Cost'].isnull().sum()"
   ]
  },
  {
   "cell_type": "code",
   "execution_count": null,
   "metadata": {},
   "outputs": [],
   "source": [
    "df_cardiac = pd.read_csv('./Findings/cardiac_arrest_treatments.csv')"
   ]
  },
  {
   "cell_type": "code",
   "execution_count": null,
   "metadata": {},
   "outputs": [],
   "source": [
    "# Cardiac Arrest Disease\n",
    "df_cardiac['OPAL Price'] = df_cardiac['drug'].apply(lambda x: search_and_extract_cost(x, 'TradeName', 'Price', 'PackageDescription'))\n",
    "df_cardiac['OPAL Amount'], df_cardiac['OPAL Unit'] = zip(*df_cardiac['drug'].apply(lambda x: extract_unit(x, 'TradeName')))\n",
    "df_cardiac['OPAL Standardized Cost'], df_cardiac['OPAL Standardized Unit'] = zip(*df_cardiac.apply(lambda row: standardize_cost(row['OPAL Price'], row['OPAL Amount'], row['OPAL Unit']), axis=1))"
   ]
  },
  {
   "cell_type": "code",
   "execution_count": null,
   "metadata": {},
   "outputs": [],
   "source": [
    "df_sepsis = pd.read_csv('./Findings/sepsis_treatments.csv')"
   ]
  },
  {
   "cell_type": "code",
   "execution_count": null,
   "metadata": {},
   "outputs": [],
   "source": [
    "# Sepsis Disease\n",
    "df_sepsis['OPAL Price'] = df_sepsis['drug'].apply(lambda x: search_and_extract_cost(x, 'TradeName', 'Price', 'PackageDescription'))\n",
    "df_sepsis['OPAL Amount'], df_sepsis['OPAL Unit'] = zip(*df_sepsis['drug'].apply(lambda x: extract_unit(x, 'TradeName')))\n",
    "df_sepsis['OPAL Standardized Cost'], df_sepsis['OPAL Standardized Unit'] = zip(*df_sepsis.apply(lambda row: standardize_cost(row['OPAL Price'], row['OPAL Amount'], row['OPAL Unit']), axis=1))"
   ]
  },
  {
   "cell_type": "code",
   "execution_count": null,
   "metadata": {},
   "outputs": [],
   "source": [
    "# Create New CSV's from df's\n",
    "df_ards.to_csv('./StandardizedCost/ARDS_standardized_cost.csv')\n",
    "df_cardiac.to_csv('./StandardizedCost/cardiac_arrest_standardized_cost.csv')\n",
    "df_sepsis.to_csv('./StandardizedCost/sepsis_standardized_cost.csv')"
   ]
  }
 ],
 "metadata": {
  "kernelspec": {
   "display_name": "analysis",
   "language": "python",
   "name": "python3"
  },
  "language_info": {
   "codemirror_mode": {
    "name": "ipython",
    "version": 3
   },
   "file_extension": ".py",
   "mimetype": "text/x-python",
   "name": "python",
   "nbconvert_exporter": "python",
   "pygments_lexer": "ipython3",
   "version": "3.11.5"
  }
 },
 "nbformat": 4,
 "nbformat_minor": 2
}
